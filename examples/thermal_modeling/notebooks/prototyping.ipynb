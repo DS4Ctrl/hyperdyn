{
 "cells": [
  {
   "cell_type": "code",
   "execution_count": 1,
   "id": "84c292df",
   "metadata": {},
   "outputs": [],
   "source": [
    "#using Revise \n",
    "#includet(\"../src/thermal_modeling.jl\")\n",
    "using Flux, DataFrames, CSV, ProgressMeter, Statistics\n",
    "#using thermal_modeling: TNNCell"
   ]
  },
  {
   "cell_type": "code",
   "execution_count": 2,
   "id": "6bd3e119",
   "metadata": {},
   "outputs": [],
   "source": [
    "# Topology Definitions\n",
    "mutable struct HeatTransferLayer{U,V,T}\n",
    "    n_temps::Int\n",
    "    n_targets::Int\n",
    "    conductance_net::Dense{U,Matrix{V},Vector{T}}\n",
    "    adj_mat::Matrix{Int8}\n",
    "end\n",
    "\n",
    "function HeatTransferLayer(n_input::Integer, n_temps::Integer, n_targets::Integer)\n",
    "    # populate adjacency matrix\n",
    "    adj_mat = zeros(Int8, n_temps, n_temps)\n",
    "    k = 1\n",
    "    for col_j in 1:n_temps\n",
    "        for row_i in col_j + 1:n_temps\n",
    "            adj_mat[row_i, col_j] = k\n",
    "            k += 1\n",
    "        end\n",
    "    end\n",
    "    adj_mat = adj_mat + adj_mat'\n",
    "    n_conds = Int(0.5 * n_temps * (n_temps - 1))\n",
    "    HeatTransferLayer(n_temps, n_targets,\n",
    "                      Dense(n_input + n_targets, n_conds, σ),\n",
    "                      adj_mat)\n",
    "end\n",
    "\n",
    "# overload struct to make it callable\n",
    "function (m::HeatTransferLayer)(all_input)\n",
    "    n_temps = m.n_temps\n",
    "    prev_out = @view all_input[1:m.n_targets, :]\n",
    "    temps = @view all_input[1:n_temps, :]\n",
    "    \n",
    "    conductances = m.conductance_net(all_input)\n",
    "    \n",
    "    # subtract, scale, and sum\n",
    "    tmp = hcat([sum(temps[j, :] .- prev_out[i, :] .* conductances[m.adj_mat[i, j], :] \n",
    "                for j in 1:n_temps if j != i) \n",
    "                    for i in 1:m.n_targets]...)'\n",
    "    # mutating arrays not allowed in zygote\n",
    "    \"\"\"tmp = zeros(eltype(prev_out), size(prev_out))\n",
    "    for i in 1:m.n_targets\n",
    "        for j in 1:n_temps\n",
    "            if j != i\n",
    "                @. tmp[i, :] += (temps[j, :] - prev_out[i, :]) * conductances[m.adj_mat[i, j], :]\n",
    "            end\n",
    "        end\n",
    "    end\"\"\"\n",
    "\n",
    "\n",
    "    return tmp\n",
    "end\n",
    "\n",
    "# specify what is trainable \n",
    "Flux.@functor HeatTransferLayer (conductance_net,)\n",
    "\n",
    "mutable struct TNNCell{U <: Chain,V <: Real,S}\n",
    "    sample_time::V\n",
    "    ploss_net::U\n",
    "    heat_net::HeatTransferLayer\n",
    "    caps::Vector{V}\n",
    "    prll::Parallel  # will be defined in inner constructor (no outer definition)\n",
    "    state0::S\n",
    "    function TNNCell(sample_time::V, ploss_net::U, heat_net::HeatTransferLayer, caps::Vector{V}, init_hidden::S) where {U <: Chain,V <: Real,S}\n",
    "        new{U,V,S}(sample_time, ploss_net, heat_net, caps, Parallel(+, ploss_net, heat_net), init_hidden)\n",
    "    end\n",
    "end\n",
    "\n",
    "\n",
    "function TNNCell(n_input::U, n_temps::U, n_targets::U, init_hidden::S) where {U <: Integer,S}\n",
    "    ploss_net = Chain(Dense(n_input + n_targets, 8, σ),\n",
    "                      Dense(8, n_targets, σ))\n",
    "    heat_transfer = HeatTransferLayer(n_input, n_temps, n_targets)\n",
    "    caps = 0.5f0 .* randn(Float32, n_targets) .- 3f0  # Gaussian mean=-3 std=0.5\n",
    "    TNNCell(Float32(0.5), ploss_net, heat_transfer, caps, init_hidden)\n",
    "end\n",
    "\n",
    "function (m::TNNCell)(prev_̂y, x)\n",
    "    x_non_temps, x_temps = x\n",
    "    xx = vcat(prev_̂y, x_temps, x_non_temps)\n",
    "    rh_ode = m.prll(xx)\n",
    "    y = prev_̂y .+ m.sample_time .* 10f0.^m.caps .* rh_ode\n",
    "    return y, prev_̂y\n",
    "end\n",
    "\n",
    "# specify what is trainable \n",
    "Flux.@functor TNNCell (ploss_net, heat_net, caps)"
   ]
  },
  {
   "cell_type": "code",
   "execution_count": 6,
   "id": "9e1012ad",
   "metadata": {},
   "outputs": [
    {
     "data": {
      "text/plain": [
       "3×49 Matrix{Float32}:\n",
       " 0.700342  0.0512767  0.992513  0.191769  …  0.259375  0.222454  0.423781\n",
       " 0.627296  0.207904   0.091095  0.775912     0.673337  0.44422   0.861122\n",
       " 0.445868  0.999073   0.942948  0.198656     0.63479   0.660746  0.970222"
      ]
     },
     "metadata": {},
     "output_type": "display_data"
    }
   ],
   "source": [
    "const n_input_temps = 2\n",
    "const n_input_non_temps = 3\n",
    "const n_total_inputs = n_input_temps + n_input_non_temps\n",
    "const n_targets = 3\n",
    "const n_temps = n_targets + n_input_temps\n",
    "const n_profiles = 49\n",
    "\n",
    "# smoke-test the topology\n",
    "xs = [(rand(Float32, n_input_non_temps, n_profiles), \n",
    "        rand(Float32, n_input_temps, n_profiles)) for i in 1:10]\n",
    "h = rand(Float32, n_targets, n_profiles)  # initial hidden state\n",
    "\n",
    "m = Flux.Recur(TNNCell(n_input_non_temps+n_input_temps, n_temps, n_targets, h), h)\n",
    "\n",
    "# predict\n",
    "ys = [m(x) for x in xs]\n",
    "ys[1]"
   ]
  },
  {
   "cell_type": "code",
   "execution_count": 7,
   "id": "60596e83",
   "metadata": {},
   "outputs": [
    {
     "data": {
      "text/plain": [
       "loss (generic function with 1 method)"
      ]
     },
     "metadata": {},
     "output_type": "display_data"
    }
   ],
   "source": [
    "\n",
    "ys = [rand(Float32, n_targets, n_profiles) for i in 1:10]\n",
    "loss(x_l, y_l) = Statistics::mean(Flux.Losses.mse(m(x), y) for (x, y) in zip(x_l, y_l))\n"
   ]
  },
  {
   "cell_type": "code",
   "execution_count": 3,
   "id": "0792c2cc",
   "metadata": {},
   "outputs": [
    {
     "data": {
      "text/html": [
       "<div class=\"data-frame\"><p>1,330,816 rows × 13 columns (omitted printing of 6 columns)</p><table class=\"data-frame\"><thead><tr><th></th><th>u_q</th><th>coolant</th><th>stator_winding</th><th>u_d</th><th>stator_tooth</th><th>motor_speed</th><th>i_d</th></tr><tr><th></th><th title=\"Float64\">Float64</th><th title=\"Float64\">Float64</th><th title=\"Float64\">Float64</th><th title=\"Float64\">Float64</th><th title=\"Float64\">Float64</th><th title=\"Float64\">Float64</th><th title=\"Float64\">Float64</th></tr></thead><tbody><tr><th>1</th><td>-0.450682</td><td>18.8052</td><td>19.0867</td><td>-0.350055</td><td>18.2932</td><td>0.00286557</td><td>0.00441914</td></tr><tr><th>2</th><td>-0.325737</td><td>18.8186</td><td>19.0924</td><td>-0.305803</td><td>18.2948</td><td>0.000256782</td><td>0.000605872</td></tr><tr><th>3</th><td>-0.440864</td><td>18.8288</td><td>19.0894</td><td>-0.372503</td><td>18.2941</td><td>0.00235497</td><td>0.00128959</td></tr><tr><th>4</th><td>-0.327026</td><td>18.8356</td><td>19.083</td><td>-0.316199</td><td>18.2925</td><td>0.00610467</td><td>2.55843e-5</td></tr><tr><th>5</th><td>-0.47115</td><td>18.857</td><td>19.0825</td><td>-0.332272</td><td>18.2914</td><td>0.00313282</td><td>-0.0643168</td></tr><tr><th>6</th><td>-0.538973</td><td>18.9015</td><td>19.0771</td><td>0.00914747</td><td>18.2906</td><td>0.00963612</td><td>-0.613635</td></tr><tr><th>7</th><td>-0.653148</td><td>18.9417</td><td>19.0746</td><td>0.23889</td><td>18.2925</td><td>0.00133701</td><td>-1.00565</td></tr><tr><th>8</th><td>-0.758392</td><td>18.9609</td><td>19.0825</td><td>0.395099</td><td>18.294</td><td>0.00142196</td><td>-1.28838</td></tr><tr><th>9</th><td>-0.727128</td><td>18.9735</td><td>19.0855</td><td>0.546623</td><td>18.292</td><td>0.000576553</td><td>-1.49053</td></tr><tr><th>10</th><td>-0.874307</td><td>18.9878</td><td>19.076</td><td>0.578944</td><td>18.2872</td><td>-0.00124788</td><td>-1.63446</td></tr><tr><th>11</th><td>-0.766984</td><td>18.9987</td><td>19.0781</td><td>0.689281</td><td>18.2865</td><td>0.00185268</td><td>-1.73921</td></tr><tr><th>12</th><td>-0.891275</td><td>19.0043</td><td>19.0832</td><td>0.680499</td><td>18.2893</td><td>-0.00414246</td><td>-1.81213</td></tr><tr><th>13</th><td>-0.843744</td><td>18.9901</td><td>19.0896</td><td>0.732883</td><td>18.2871</td><td>0.00336327</td><td>-1.86699</td></tr><tr><th>14</th><td>-0.808622</td><td>18.9654</td><td>19.1019</td><td>0.810527</td><td>18.2845</td><td>-0.00356533</td><td>-1.90373</td></tr><tr><th>15</th><td>-0.886074</td><td>18.9291</td><td>19.1018</td><td>0.79623</td><td>18.285</td><td>-0.00058039</td><td>-1.93123</td></tr><tr><th>16</th><td>-0.82632</td><td>18.8805</td><td>19.0967</td><td>0.84389</td><td>18.2854</td><td>0.000280462</td><td>-1.94955</td></tr><tr><th>17</th><td>-0.945092</td><td>18.8395</td><td>19.0927</td><td>0.801049</td><td>18.2853</td><td>-0.00145187</td><td>-1.96554</td></tr><tr><th>18</th><td>-0.842017</td><td>18.8073</td><td>19.0923</td><td>0.851181</td><td>18.2853</td><td>-0.00153862</td><td>-1.97431</td></tr><tr><th>19</th><td>-0.961187</td><td>18.7791</td><td>19.0919</td><td>0.808191</td><td>18.2853</td><td>-0.00326309</td><td>-1.98145</td></tr><tr><th>20</th><td>-0.912817</td><td>18.7737</td><td>19.0941</td><td>0.833554</td><td>18.284</td><td>0.000786953</td><td>-1.9882</td></tr><tr><th>21</th><td>-0.916471</td><td>18.8009</td><td>19.1029</td><td>0.827923</td><td>18.2843</td><td>-0.00127908</td><td>-1.99089</td></tr><tr><th>22</th><td>-0.945532</td><td>18.8355</td><td>19.1079</td><td>0.811725</td><td>18.2843</td><td>0.00144672</td><td>-1.99466</td></tr><tr><th>23</th><td>-0.864644</td><td>18.8471</td><td>19.1029</td><td>0.844668</td><td>18.2848</td><td>0.0026509</td><td>-1.99502</td></tr><tr><th>24</th><td>-0.974433</td><td>18.8569</td><td>19.0991</td><td>0.803171</td><td>18.2859</td><td>0.00016257</td><td>-1.9977</td></tr><tr><th>&vellip;</th><td>&vellip;</td><td>&vellip;</td><td>&vellip;</td><td>&vellip;</td><td>&vellip;</td><td>&vellip;</td><td>&vellip;</td></tr></tbody></table></div>"
      ],
      "text/latex": [
       "\\begin{tabular}{r|cccccccc}\n",
       "\t& u\\_q & coolant & stator\\_winding & u\\_d & stator\\_tooth & motor\\_speed & i\\_d & \\\\\n",
       "\t\\hline\n",
       "\t& Float64 & Float64 & Float64 & Float64 & Float64 & Float64 & Float64 & \\\\\n",
       "\t\\hline\n",
       "\t1 & -0.450682 & 18.8052 & 19.0867 & -0.350055 & 18.2932 & 0.00286557 & 0.00441914 & $\\dots$ \\\\\n",
       "\t2 & -0.325737 & 18.8186 & 19.0924 & -0.305803 & 18.2948 & 0.000256782 & 0.000605872 & $\\dots$ \\\\\n",
       "\t3 & -0.440864 & 18.8288 & 19.0894 & -0.372503 & 18.2941 & 0.00235497 & 0.00128959 & $\\dots$ \\\\\n",
       "\t4 & -0.327026 & 18.8356 & 19.083 & -0.316199 & 18.2925 & 0.00610467 & 2.55843e-5 & $\\dots$ \\\\\n",
       "\t5 & -0.47115 & 18.857 & 19.0825 & -0.332272 & 18.2914 & 0.00313282 & -0.0643168 & $\\dots$ \\\\\n",
       "\t6 & -0.538973 & 18.9015 & 19.0771 & 0.00914747 & 18.2906 & 0.00963612 & -0.613635 & $\\dots$ \\\\\n",
       "\t7 & -0.653148 & 18.9417 & 19.0746 & 0.23889 & 18.2925 & 0.00133701 & -1.00565 & $\\dots$ \\\\\n",
       "\t8 & -0.758392 & 18.9609 & 19.0825 & 0.395099 & 18.294 & 0.00142196 & -1.28838 & $\\dots$ \\\\\n",
       "\t9 & -0.727128 & 18.9735 & 19.0855 & 0.546623 & 18.292 & 0.000576553 & -1.49053 & $\\dots$ \\\\\n",
       "\t10 & -0.874307 & 18.9878 & 19.076 & 0.578944 & 18.2872 & -0.00124788 & -1.63446 & $\\dots$ \\\\\n",
       "\t11 & -0.766984 & 18.9987 & 19.0781 & 0.689281 & 18.2865 & 0.00185268 & -1.73921 & $\\dots$ \\\\\n",
       "\t12 & -0.891275 & 19.0043 & 19.0832 & 0.680499 & 18.2893 & -0.00414246 & -1.81213 & $\\dots$ \\\\\n",
       "\t13 & -0.843744 & 18.9901 & 19.0896 & 0.732883 & 18.2871 & 0.00336327 & -1.86699 & $\\dots$ \\\\\n",
       "\t14 & -0.808622 & 18.9654 & 19.1019 & 0.810527 & 18.2845 & -0.00356533 & -1.90373 & $\\dots$ \\\\\n",
       "\t15 & -0.886074 & 18.9291 & 19.1018 & 0.79623 & 18.285 & -0.00058039 & -1.93123 & $\\dots$ \\\\\n",
       "\t16 & -0.82632 & 18.8805 & 19.0967 & 0.84389 & 18.2854 & 0.000280462 & -1.94955 & $\\dots$ \\\\\n",
       "\t17 & -0.945092 & 18.8395 & 19.0927 & 0.801049 & 18.2853 & -0.00145187 & -1.96554 & $\\dots$ \\\\\n",
       "\t18 & -0.842017 & 18.8073 & 19.0923 & 0.851181 & 18.2853 & -0.00153862 & -1.97431 & $\\dots$ \\\\\n",
       "\t19 & -0.961187 & 18.7791 & 19.0919 & 0.808191 & 18.2853 & -0.00326309 & -1.98145 & $\\dots$ \\\\\n",
       "\t20 & -0.912817 & 18.7737 & 19.0941 & 0.833554 & 18.284 & 0.000786953 & -1.9882 & $\\dots$ \\\\\n",
       "\t21 & -0.916471 & 18.8009 & 19.1029 & 0.827923 & 18.2843 & -0.00127908 & -1.99089 & $\\dots$ \\\\\n",
       "\t22 & -0.945532 & 18.8355 & 19.1079 & 0.811725 & 18.2843 & 0.00144672 & -1.99466 & $\\dots$ \\\\\n",
       "\t23 & -0.864644 & 18.8471 & 19.1029 & 0.844668 & 18.2848 & 0.0026509 & -1.99502 & $\\dots$ \\\\\n",
       "\t24 & -0.974433 & 18.8569 & 19.0991 & 0.803171 & 18.2859 & 0.00016257 & -1.9977 & $\\dots$ \\\\\n",
       "\t$\\dots$ & $\\dots$ & $\\dots$ & $\\dots$ & $\\dots$ & $\\dots$ & $\\dots$ & $\\dots$ &  \\\\\n",
       "\\end{tabular}\n"
      ],
      "text/plain": [
       "\u001b[1m1330816×13 DataFrame\u001b[0m\n",
       "\u001b[1m     Row \u001b[0m│\u001b[1m u_q       \u001b[0m\u001b[1m coolant \u001b[0m\u001b[1m stator_winding \u001b[0m\u001b[1m u_d         \u001b[0m\u001b[1m stator_tooth \u001b[0m\u001b[1m moto\u001b[0m ⋯\n",
       "\u001b[1m         \u001b[0m│\u001b[90m Float64   \u001b[0m\u001b[90m Float64 \u001b[0m\u001b[90m Float64        \u001b[0m\u001b[90m Float64     \u001b[0m\u001b[90m Float64      \u001b[0m\u001b[90m Floa\u001b[0m ⋯\n",
       "─────────┼──────────────────────────────────────────────────────────────────────\n",
       "       1 │ -0.450682  18.8052         19.0867  -0.350055         18.2932   0.0 ⋯\n",
       "       2 │ -0.325737  18.8186         19.0924  -0.305803         18.2948   0.0\n",
       "       3 │ -0.440864  18.8288         19.0894  -0.372503         18.2941   0.0\n",
       "       4 │ -0.327026  18.8356         19.083   -0.316199         18.2925   0.0\n",
       "       5 │ -0.47115   18.857          19.0825  -0.332272         18.2914   0.0 ⋯\n",
       "       6 │ -0.538973  18.9015         19.0771   0.00914747       18.2906   0.0\n",
       "       7 │ -0.653148  18.9417         19.0746   0.23889          18.2925   0.0\n",
       "       8 │ -0.758392  18.9609         19.0825   0.395099         18.294    0.0\n",
       "    ⋮    │     ⋮         ⋮           ⋮              ⋮            ⋮             ⋱\n",
       " 1330810 │ -2.15036   30.7213         45.3139   0.797027         41.9508  -0.0 ⋯\n",
       " 1330811 │ -2.22999   30.7213         45.3046   0.778492         41.9497  -0.0\n",
       " 1330812 │ -2.15213   30.7213         45.2745   0.791801         41.9343   0.0\n",
       " 1330813 │ -2.25868   30.7213         45.239    0.7789           41.8689   0.0\n",
       " 1330814 │ -2.13031   30.7213         45.2116   0.804914         41.8048   0.0 ⋯\n",
       " 1330815 │ -2.2685    30.7213         45.1935   0.763091         41.7622   0.0\n",
       " 1330816 │ -2.10016   30.7213         45.1323   0.807309         41.7348   0.0\n",
       "\u001b[36m                                              8 columns and 1330801 rows omitted\u001b[0m"
      ]
     },
     "metadata": {},
     "output_type": "display_data"
    }
   ],
   "source": [
    "function load_dataset()\n",
    "    data = CSV.File(\"/home/wilhelmk/dev/projects/datasets/kaggle_emotor_temps.csv\") |> DataFrame;\n",
    "    # FE\n",
    "    @. data[!, :i_norm] = sqrt(data.i_d^2 + data.i_q^2);\n",
    "    data[!, :fe1] = data.i_norm / maximum(data.i_norm) .* data.motor_speed / maximum(data.motor_speed);\n",
    "    data\n",
    "end\n",
    "\n",
    "struct ChunkedTensors\n",
    "\n",
    "end\n"
   ]
  },
  {
   "cell_type": "code",
   "execution_count": 4,
   "id": "18f33742",
   "metadata": {},
   "outputs": [],
   "source": []
  },
  {
   "cell_type": "code",
   "execution_count": 5,
   "id": "8c18091a",
   "metadata": {},
   "outputs": [
    {
     "data": {
      "text/html": [
       "<div class=\"data-frame\"><p>15 rows × 7 columns</p><table class=\"data-frame\"><thead><tr><th></th><th>variable</th><th>mean</th><th>min</th><th>median</th><th>max</th><th>nmissing</th><th>eltype</th></tr><tr><th></th><th title=\"Symbol\">Symbol</th><th title=\"Float64\">Float64</th><th title=\"Real\">Real</th><th title=\"Float64\">Float64</th><th title=\"Real\">Real</th><th title=\"Int64\">Int64</th><th title=\"DataType\">DataType</th></tr></thead><tbody><tr><th>1</th><td>u_q</td><td>54.279</td><td>-25.2909</td><td>48.9382</td><td>133.037</td><td>0</td><td>Float64</td></tr><tr><th>2</th><td>coolant</td><td>36.23</td><td>10.6238</td><td>26.9001</td><td>101.599</td><td>0</td><td>Float64</td></tr><tr><th>3</th><td>stator_winding</td><td>66.3427</td><td>18.5858</td><td>65.1101</td><td>141.363</td><td>0</td><td>Float64</td></tr><tr><th>4</th><td>u_d</td><td>-25.1338</td><td>-131.53</td><td>-7.42975</td><td>131.47</td><td>0</td><td>Float64</td></tr><tr><th>5</th><td>stator_tooth</td><td>56.8786</td><td>18.134</td><td>56.0363</td><td>111.946</td><td>0</td><td>Float64</td></tr><tr><th>6</th><td>motor_speed</td><td>2202.08</td><td>-275.549</td><td>1999.98</td><td>6000.02</td><td>0</td><td>Float64</td></tr><tr><th>7</th><td>i_d</td><td>-68.7168</td><td>-278.004</td><td>-51.0938</td><td>0.0518967</td><td>0</td><td>Float64</td></tr><tr><th>8</th><td>i_q</td><td>37.4128</td><td>-293.427</td><td>15.774</td><td>301.708</td><td>0</td><td>Float64</td></tr><tr><th>9</th><td>pm</td><td>58.5068</td><td>20.857</td><td>60.2663</td><td>113.607</td><td>0</td><td>Float64</td></tr><tr><th>10</th><td>stator_yoke</td><td>48.188</td><td>18.0767</td><td>45.6255</td><td>101.148</td><td>0</td><td>Float64</td></tr><tr><th>11</th><td>ambient</td><td>24.5653</td><td>8.78348</td><td>24.7973</td><td>30.7142</td><td>0</td><td>Float64</td></tr><tr><th>12</th><td>torque</td><td>31.106</td><td>-246.467</td><td>10.8604</td><td>261.006</td><td>0</td><td>Float64</td></tr><tr><th>13</th><td>profile_id</td><td>40.7931</td><td>2</td><td>43.0</td><td>81</td><td>0</td><td>Int64</td></tr><tr><th>14</th><td>i_norm</td><td>107.545</td><td>3.92221e-5</td><td>110.62</td><td>361.515</td><td>0</td><td>Float64</td></tr><tr><th>15</th><td>fe1</td><td>0.137137</td><td>-0.00125493</td><td>0.0879814</td><td>0.561725</td><td>0</td><td>Float64</td></tr></tbody></table></div>"
      ],
      "text/latex": [
       "\\begin{tabular}{r|ccccccc}\n",
       "\t& variable & mean & min & median & max & nmissing & eltype\\\\\n",
       "\t\\hline\n",
       "\t& Symbol & Float64 & Real & Float64 & Real & Int64 & DataType\\\\\n",
       "\t\\hline\n",
       "\t1 & u\\_q & 54.279 & -25.2909 & 48.9382 & 133.037 & 0 & Float64 \\\\\n",
       "\t2 & coolant & 36.23 & 10.6238 & 26.9001 & 101.599 & 0 & Float64 \\\\\n",
       "\t3 & stator\\_winding & 66.3427 & 18.5858 & 65.1101 & 141.363 & 0 & Float64 \\\\\n",
       "\t4 & u\\_d & -25.1338 & -131.53 & -7.42975 & 131.47 & 0 & Float64 \\\\\n",
       "\t5 & stator\\_tooth & 56.8786 & 18.134 & 56.0363 & 111.946 & 0 & Float64 \\\\\n",
       "\t6 & motor\\_speed & 2202.08 & -275.549 & 1999.98 & 6000.02 & 0 & Float64 \\\\\n",
       "\t7 & i\\_d & -68.7168 & -278.004 & -51.0938 & 0.0518967 & 0 & Float64 \\\\\n",
       "\t8 & i\\_q & 37.4128 & -293.427 & 15.774 & 301.708 & 0 & Float64 \\\\\n",
       "\t9 & pm & 58.5068 & 20.857 & 60.2663 & 113.607 & 0 & Float64 \\\\\n",
       "\t10 & stator\\_yoke & 48.188 & 18.0767 & 45.6255 & 101.148 & 0 & Float64 \\\\\n",
       "\t11 & ambient & 24.5653 & 8.78348 & 24.7973 & 30.7142 & 0 & Float64 \\\\\n",
       "\t12 & torque & 31.106 & -246.467 & 10.8604 & 261.006 & 0 & Float64 \\\\\n",
       "\t13 & profile\\_id & 40.7931 & 2 & 43.0 & 81 & 0 & Int64 \\\\\n",
       "\t14 & i\\_norm & 107.545 & 3.92221e-5 & 110.62 & 361.515 & 0 & Float64 \\\\\n",
       "\t15 & fe1 & 0.137137 & -0.00125493 & 0.0879814 & 0.561725 & 0 & Float64 \\\\\n",
       "\\end{tabular}\n"
      ],
      "text/plain": [
       "\u001b[1m15×7 DataFrame\u001b[0m\n",
       "\u001b[1m Row \u001b[0m│\u001b[1m variable       \u001b[0m\u001b[1m mean        \u001b[0m\u001b[1m min           \u001b[0m\u001b[1m median       \u001b[0m\u001b[1m max          \u001b[0m\u001b[1m\u001b[0m ⋯\n",
       "\u001b[1m     \u001b[0m│\u001b[90m Symbol         \u001b[0m\u001b[90m Float64     \u001b[0m\u001b[90m Real          \u001b[0m\u001b[90m Float64      \u001b[0m\u001b[90m Real         \u001b[0m\u001b[90m\u001b[0m ⋯\n",
       "─────┼──────────────────────────────────────────────────────────────────────────\n",
       "   1 │ u_q               54.279      -25.2909        48.9382      133.037      ⋯\n",
       "   2 │ coolant           36.23        10.6238        26.9001      101.599\n",
       "   3 │ stator_winding    66.3427      18.5858        65.1101      141.363\n",
       "   4 │ u_d              -25.1338    -131.53          -7.42975     131.47\n",
       "   5 │ stator_tooth      56.8786      18.134         56.0363      111.946      ⋯\n",
       "   6 │ motor_speed     2202.08      -275.549       1999.98       6000.02\n",
       "   7 │ i_d              -68.7168    -278.004        -51.0938        0.0518967\n",
       "   8 │ i_q               37.4128    -293.427         15.774       301.708\n",
       "   9 │ pm                58.5068      20.857         60.2663      113.607      ⋯\n",
       "  10 │ stator_yoke       48.188       18.0767        45.6255      101.148\n",
       "  11 │ ambient           24.5653       8.78348       24.7973       30.7142\n",
       "  12 │ torque            31.106     -246.467         10.8604      261.006\n",
       "  13 │ profile_id        40.7931       2             43.0          81          ⋯\n",
       "  14 │ i_norm           107.545        3.92221e-5   110.62        361.515\n",
       "  15 │ fe1                0.137137    -0.00125493     0.0879814     0.561725\n",
       "\u001b[36m                                                               2 columns omitted\u001b[0m"
      ]
     },
     "metadata": {},
     "output_type": "display_data"
    }
   ],
   "source": [
    "describe(data)"
   ]
  },
  {
   "cell_type": "code",
   "execution_count": 6,
   "id": "f92ec39f",
   "metadata": {
    "scrolled": true
   },
   "outputs": [
    {
     "data": {
      "text/html": [
       "<p><b>GroupedDataFrame with 69 groups based on key: profile_id</b></p><p><i>First Group (19357 rows): profile_id = 2</i></p><div class=\"data-frame\"><table class=\"data-frame\"><thead><tr><th></th><th>u_q</th><th>coolant</th><th>stator_winding</th><th>u_d</th><th>stator_tooth</th><th>motor_speed</th><th>i_d</th></tr><tr><th></th><th title=\"Float64\">Float64</th><th title=\"Float64\">Float64</th><th title=\"Float64\">Float64</th><th title=\"Float64\">Float64</th><th title=\"Float64\">Float64</th><th title=\"Float64\">Float64</th><th title=\"Float64\">Float64</th></tr></thead><tbody><tr><th>1</th><td>4.92171</td><td>15.7175</td><td>19.7292</td><td>0.0511826</td><td>18.8894</td><td>99.9645</td><td>-0.000384623</td></tr><tr><th>2</th><td>4.94854</td><td>15.8908</td><td>19.7376</td><td>0.0748067</td><td>18.8958</td><td>100.018</td><td>-0.00200349</td></tr><tr><th>3</th><td>4.94148</td><td>15.9926</td><td>19.7407</td><td>0.0636479</td><td>18.9028</td><td>100.0</td><td>0.000156374</td></tr><tr><th>4</th><td>4.92118</td><td>16.1352</td><td>19.7275</td><td>0.0767381</td><td>18.9081</td><td>99.9803</td><td>0.0014655</td></tr><tr><th>5</th><td>4.92435</td><td>16.1654</td><td>19.7305</td><td>0.0845534</td><td>18.8761</td><td>100.023</td><td>0.000682373</td></tr><tr><th>6</th><td>4.93227</td><td>16.0686</td><td>19.7318</td><td>0.0287042</td><td>18.8553</td><td>100.003</td><td>0.000352695</td></tr><tr><th>7</th><td>4.93508</td><td>15.9281</td><td>19.7221</td><td>0.0442232</td><td>18.8559</td><td>99.9628</td><td>-4.42849e-5</td></tr><tr><th>8</th><td>4.95151</td><td>15.8281</td><td>19.7141</td><td>0.046617</td><td>18.8662</td><td>100.023</td><td>-0.0102887</td></tr><tr><th>9</th><td>4.7295</td><td>15.7325</td><td>19.7258</td><td>0.431713</td><td>18.8392</td><td>100.011</td><td>-0.575398</td></tr><tr><th>10</th><td>4.55836</td><td>15.664</td><td>19.7245</td><td>0.715794</td><td>18.7837</td><td>99.9849</td><td>-0.9792</td></tr><tr><th>11</th><td>4.44745</td><td>15.6614</td><td>19.7178</td><td>0.910587</td><td>18.7366</td><td>100.026</td><td>-1.2686</td></tr><tr><th>12</th><td>4.4051</td><td>15.637</td><td>19.7227</td><td>1.05216</td><td>18.7248</td><td>100.005</td><td>-1.47762</td></tr><tr><th>13</th><td>4.35687</td><td>15.6196</td><td>19.7204</td><td>1.15255</td><td>18.7211</td><td>99.968</td><td>-1.62481</td></tr><tr><th>14</th><td>4.31538</td><td>15.6303</td><td>19.7254</td><td>1.26085</td><td>18.6963</td><td>100.024</td><td>-1.73077</td></tr><tr><th>15</th><td>4.25503</td><td>15.6147</td><td>19.7387</td><td>1.30105</td><td>18.6667</td><td>100.003</td><td>-1.80812</td></tr><tr><th>16</th><td>4.2368</td><td>15.6036</td><td>19.7261</td><td>1.34209</td><td>18.6524</td><td>99.9797</td><td>-1.86058</td></tr><tr><th>17</th><td>4.24758</td><td>15.5949</td><td>19.7267</td><td>1.3577</td><td>18.6467</td><td>100.023</td><td>-1.90263</td></tr><tr><th>18</th><td>4.23289</td><td>15.731</td><td>19.7271</td><td>1.36838</td><td>18.6482</td><td>100.009</td><td>-1.93069</td></tr><tr><th>19</th><td>4.28017</td><td>15.902</td><td>19.736</td><td>1.29498</td><td>18.6499</td><td>99.9933</td><td>-1.99418</td></tr><tr><th>20</th><td>4.87402</td><td>16.0231</td><td>19.7328</td><td>0.5519</td><td>18.6399</td><td>100.215</td><td>-2.84768</td></tr><tr><th>21</th><td>5.46653</td><td>16.1098</td><td>19.7238</td><td>-0.375139</td><td>18.6339</td><td>100.324</td><td>-5.7444</td></tr><tr><th>22</th><td>5.99349</td><td>16.2207</td><td>19.7375</td><td>-1.39941</td><td>18.6365</td><td>100.359</td><td>-11.3863</td></tr><tr><th>23</th><td>6.45311</td><td>16.3556</td><td>19.732</td><td>-2.4585</td><td>18.6334</td><td>100.423</td><td>-19.5458</td></tr><tr><th>24</th><td>6.84705</td><td>16.4193</td><td>19.6846</td><td>-3.52155</td><td>18.6273</td><td>100.472</td><td>-29.6743</td></tr><tr><th>&vellip;</th><td>&vellip;</td><td>&vellip;</td><td>&vellip;</td><td>&vellip;</td><td>&vellip;</td><td>&vellip;</td><td>&vellip;</td></tr></tbody></table></div><p>&vellip;</p><p><i>Last Group (17672 rows): profile_id = 81</i></p><div class=\"data-frame\"><table class=\"data-frame\"><thead><tr><th></th><th>u_q</th><th>coolant</th><th>stator_winding</th><th>u_d</th><th>stator_tooth</th><th>motor_speed</th><th>i_d</th></tr><tr><th></th><th title=\"Float64\">Float64</th><th title=\"Float64\">Float64</th><th title=\"Float64\">Float64</th><th title=\"Float64\">Float64</th><th title=\"Float64\">Float64</th><th title=\"Float64\">Float64</th><th title=\"Float64\">Float64</th></tr></thead><tbody><tr><th>1</th><td>-1.94079</td><td>24.7436</td><td>23.6858</td><td>1.10974</td><td>22.2009</td><td>0.208017</td><td>-2.00204</td></tr><tr><th>2</th><td>0.0612673</td><td>24.7216</td><td>23.6775</td><td>1.01142</td><td>22.213</td><td>26.3916</td><td>-2.00144</td></tr><tr><th>3</th><td>4.86904</td><td>24.7008</td><td>23.6776</td><td>0.839013</td><td>22.2164</td><td>114.96</td><td>-1.99696</td></tr><tr><th>4</th><td>11.4036</td><td>24.6855</td><td>23.6817</td><td>0.836843</td><td>22.2059</td><td>249.357</td><td>-2.07542</td></tr><tr><th>5</th><td>19.1763</td><td>24.6713</td><td>23.6814</td><td>1.51188</td><td>22.196</td><td>416.541</td><td>-2.41257</td></tr><tr><th>6</th><td>28.0999</td><td>24.6624</td><td>23.691</td><td>2.75774</td><td>22.1794</td><td>607.219</td><td>-2.75906</td></tr><tr><th>7</th><td>37.8627</td><td>24.6636</td><td>23.7168</td><td>4.36338</td><td>22.1761</td><td>814.734</td><td>-3.0113</td></tr><tr><th>8</th><td>48.2362</td><td>24.6901</td><td>23.7058</td><td>5.6149</td><td>22.1942</td><td>1034.35</td><td>-3.18917</td></tr><tr><th>9</th><td>59.1627</td><td>24.7097</td><td>23.7076</td><td>5.81065</td><td>22.2038</td><td>1262.59</td><td>-3.14215</td></tr><tr><th>10</th><td>70.7347</td><td>24.7408</td><td>23.7117</td><td>5.05243</td><td>22.22</td><td>1497.0</td><td>-2.86378</td></tr><tr><th>11</th><td>82.5401</td><td>24.7894</td><td>23.7165</td><td>3.69961</td><td>22.2193</td><td>1735.84</td><td>-2.61967</td></tr><tr><th>12</th><td>94.3469</td><td>24.8118</td><td>23.7193</td><td>2.30421</td><td>22.2272</td><td>1977.84</td><td>-2.44074</td></tr><tr><th>13</th><td>105.867</td><td>24.8364</td><td>23.7195</td><td>1.29651</td><td>22.2703</td><td>2222.11</td><td>-2.30351</td></tr><tr><th>14</th><td>115.882</td><td>24.8575</td><td>23.703</td><td>0.933348</td><td>22.3076</td><td>2468.02</td><td>-4.14669</td></tr><tr><th>15</th><td>120.565</td><td>24.8795</td><td>23.6913</td><td>0.116632</td><td>22.331</td><td>2715.11</td><td>-14.0582</td></tr><tr><th>16</th><td>123.561</td><td>24.8784</td><td>23.683</td><td>-1.19981</td><td>22.3361</td><td>2963.05</td><td>-25.296</td></tr><tr><th>17</th><td>125.673</td><td>24.876</td><td>23.6677</td><td>-3.67816</td><td>22.3334</td><td>3211.58</td><td>-36.5232</td></tr><tr><th>18</th><td>126.942</td><td>24.8613</td><td>23.6541</td><td>-7.50624</td><td>22.3411</td><td>3460.56</td><td>-47.6465</td></tr><tr><th>19</th><td>127.317</td><td>24.806</td><td>23.6312</td><td>-12.8746</td><td>22.3609</td><td>3709.85</td><td>-58.668</td></tr><tr><th>20</th><td>127.458</td><td>24.7628</td><td>23.6141</td><td>-17.4837</td><td>22.372</td><td>3959.3</td><td>-68.8217</td></tr><tr><th>21</th><td>127.665</td><td>24.7256</td><td>23.6157</td><td>-19.7105</td><td>22.3846</td><td>4208.92</td><td>-77.9614</td></tr><tr><th>22</th><td>127.972</td><td>24.6972</td><td>23.6086</td><td>-19.8415</td><td>22.4072</td><td>4456.67</td><td>-86.0228</td></tr><tr><th>23</th><td>128.382</td><td>24.6877</td><td>23.6301</td><td>-17.8742</td><td>22.4909</td><td>4661.56</td><td>-92.1807</td></tr><tr><th>24</th><td>128.634</td><td>24.677</td><td>23.6013</td><td>-17.0461</td><td>22.6571</td><td>4811.57</td><td>-96.7032</td></tr><tr><th>&vellip;</th><td>&vellip;</td><td>&vellip;</td><td>&vellip;</td><td>&vellip;</td><td>&vellip;</td><td>&vellip;</td><td>&vellip;</td></tr></tbody></table></div>"
      ],
      "text/latex": [
       "GroupedDataFrame with 69 groups based on key: profile\\_id\n",
       "\n",
       "First Group (19357 rows): profile\\_id = 2\n",
       "\n",
       "\\begin{tabular}{r|cccccccc}\n",
       "\t& u\\_q & coolant & stator\\_winding & u\\_d & stator\\_tooth & motor\\_speed & i\\_d & \\\\\n",
       "\t\\hline\n",
       "\t& Float64 & Float64 & Float64 & Float64 & Float64 & Float64 & Float64 & \\\\\n",
       "\t\\hline\n",
       "\t1 & 4.92171 & 15.7175 & 19.7292 & 0.0511826 & 18.8894 & 99.9645 & -0.000384623 & $\\dots$ \\\\\n",
       "\t2 & 4.94854 & 15.8908 & 19.7376 & 0.0748067 & 18.8958 & 100.018 & -0.00200349 & $\\dots$ \\\\\n",
       "\t3 & 4.94148 & 15.9926 & 19.7407 & 0.0636479 & 18.9028 & 100.0 & 0.000156374 & $\\dots$ \\\\\n",
       "\t4 & 4.92118 & 16.1352 & 19.7275 & 0.0767381 & 18.9081 & 99.9803 & 0.0014655 & $\\dots$ \\\\\n",
       "\t5 & 4.92435 & 16.1654 & 19.7305 & 0.0845534 & 18.8761 & 100.023 & 0.000682373 & $\\dots$ \\\\\n",
       "\t6 & 4.93227 & 16.0686 & 19.7318 & 0.0287042 & 18.8553 & 100.003 & 0.000352695 & $\\dots$ \\\\\n",
       "\t7 & 4.93508 & 15.9281 & 19.7221 & 0.0442232 & 18.8559 & 99.9628 & -4.42849e-5 & $\\dots$ \\\\\n",
       "\t8 & 4.95151 & 15.8281 & 19.7141 & 0.046617 & 18.8662 & 100.023 & -0.0102887 & $\\dots$ \\\\\n",
       "\t9 & 4.7295 & 15.7325 & 19.7258 & 0.431713 & 18.8392 & 100.011 & -0.575398 & $\\dots$ \\\\\n",
       "\t10 & 4.55836 & 15.664 & 19.7245 & 0.715794 & 18.7837 & 99.9849 & -0.9792 & $\\dots$ \\\\\n",
       "\t11 & 4.44745 & 15.6614 & 19.7178 & 0.910587 & 18.7366 & 100.026 & -1.2686 & $\\dots$ \\\\\n",
       "\t12 & 4.4051 & 15.637 & 19.7227 & 1.05216 & 18.7248 & 100.005 & -1.47762 & $\\dots$ \\\\\n",
       "\t13 & 4.35687 & 15.6196 & 19.7204 & 1.15255 & 18.7211 & 99.968 & -1.62481 & $\\dots$ \\\\\n",
       "\t14 & 4.31538 & 15.6303 & 19.7254 & 1.26085 & 18.6963 & 100.024 & -1.73077 & $\\dots$ \\\\\n",
       "\t15 & 4.25503 & 15.6147 & 19.7387 & 1.30105 & 18.6667 & 100.003 & -1.80812 & $\\dots$ \\\\\n",
       "\t16 & 4.2368 & 15.6036 & 19.7261 & 1.34209 & 18.6524 & 99.9797 & -1.86058 & $\\dots$ \\\\\n",
       "\t17 & 4.24758 & 15.5949 & 19.7267 & 1.3577 & 18.6467 & 100.023 & -1.90263 & $\\dots$ \\\\\n",
       "\t18 & 4.23289 & 15.731 & 19.7271 & 1.36838 & 18.6482 & 100.009 & -1.93069 & $\\dots$ \\\\\n",
       "\t19 & 4.28017 & 15.902 & 19.736 & 1.29498 & 18.6499 & 99.9933 & -1.99418 & $\\dots$ \\\\\n",
       "\t20 & 4.87402 & 16.0231 & 19.7328 & 0.5519 & 18.6399 & 100.215 & -2.84768 & $\\dots$ \\\\\n",
       "\t21 & 5.46653 & 16.1098 & 19.7238 & -0.375139 & 18.6339 & 100.324 & -5.7444 & $\\dots$ \\\\\n",
       "\t22 & 5.99349 & 16.2207 & 19.7375 & -1.39941 & 18.6365 & 100.359 & -11.3863 & $\\dots$ \\\\\n",
       "\t23 & 6.45311 & 16.3556 & 19.732 & -2.4585 & 18.6334 & 100.423 & -19.5458 & $\\dots$ \\\\\n",
       "\t24 & 6.84705 & 16.4193 & 19.6846 & -3.52155 & 18.6273 & 100.472 & -29.6743 & $\\dots$ \\\\\n",
       "\t$\\dots$ & $\\dots$ & $\\dots$ & $\\dots$ & $\\dots$ & $\\dots$ & $\\dots$ & $\\dots$ &  \\\\\n",
       "\\end{tabular}\n",
       "\n",
       "$\\dots$\n",
       "\n",
       "Last Group (17672 rows): profile\\_id = 81\n",
       "\n",
       "\\begin{tabular}{r|cccccccc}\n",
       "\t& u\\_q & coolant & stator\\_winding & u\\_d & stator\\_tooth & motor\\_speed & i\\_d & \\\\\n",
       "\t\\hline\n",
       "\t& Float64 & Float64 & Float64 & Float64 & Float64 & Float64 & Float64 & \\\\\n",
       "\t\\hline\n",
       "\t1 & -1.94079 & 24.7436 & 23.6858 & 1.10974 & 22.2009 & 0.208017 & -2.00204 & $\\dots$ \\\\\n",
       "\t2 & 0.0612673 & 24.7216 & 23.6775 & 1.01142 & 22.213 & 26.3916 & -2.00144 & $\\dots$ \\\\\n",
       "\t3 & 4.86904 & 24.7008 & 23.6776 & 0.839013 & 22.2164 & 114.96 & -1.99696 & $\\dots$ \\\\\n",
       "\t4 & 11.4036 & 24.6855 & 23.6817 & 0.836843 & 22.2059 & 249.357 & -2.07542 & $\\dots$ \\\\\n",
       "\t5 & 19.1763 & 24.6713 & 23.6814 & 1.51188 & 22.196 & 416.541 & -2.41257 & $\\dots$ \\\\\n",
       "\t6 & 28.0999 & 24.6624 & 23.691 & 2.75774 & 22.1794 & 607.219 & -2.75906 & $\\dots$ \\\\\n",
       "\t7 & 37.8627 & 24.6636 & 23.7168 & 4.36338 & 22.1761 & 814.734 & -3.0113 & $\\dots$ \\\\\n",
       "\t8 & 48.2362 & 24.6901 & 23.7058 & 5.6149 & 22.1942 & 1034.35 & -3.18917 & $\\dots$ \\\\\n",
       "\t9 & 59.1627 & 24.7097 & 23.7076 & 5.81065 & 22.2038 & 1262.59 & -3.14215 & $\\dots$ \\\\\n",
       "\t10 & 70.7347 & 24.7408 & 23.7117 & 5.05243 & 22.22 & 1497.0 & -2.86378 & $\\dots$ \\\\\n",
       "\t11 & 82.5401 & 24.7894 & 23.7165 & 3.69961 & 22.2193 & 1735.84 & -2.61967 & $\\dots$ \\\\\n",
       "\t12 & 94.3469 & 24.8118 & 23.7193 & 2.30421 & 22.2272 & 1977.84 & -2.44074 & $\\dots$ \\\\\n",
       "\t13 & 105.867 & 24.8364 & 23.7195 & 1.29651 & 22.2703 & 2222.11 & -2.30351 & $\\dots$ \\\\\n",
       "\t14 & 115.882 & 24.8575 & 23.703 & 0.933348 & 22.3076 & 2468.02 & -4.14669 & $\\dots$ \\\\\n",
       "\t15 & 120.565 & 24.8795 & 23.6913 & 0.116632 & 22.331 & 2715.11 & -14.0582 & $\\dots$ \\\\\n",
       "\t16 & 123.561 & 24.8784 & 23.683 & -1.19981 & 22.3361 & 2963.05 & -25.296 & $\\dots$ \\\\\n",
       "\t17 & 125.673 & 24.876 & 23.6677 & -3.67816 & 22.3334 & 3211.58 & -36.5232 & $\\dots$ \\\\\n",
       "\t18 & 126.942 & 24.8613 & 23.6541 & -7.50624 & 22.3411 & 3460.56 & -47.6465 & $\\dots$ \\\\\n",
       "\t19 & 127.317 & 24.806 & 23.6312 & -12.8746 & 22.3609 & 3709.85 & -58.668 & $\\dots$ \\\\\n",
       "\t20 & 127.458 & 24.7628 & 23.6141 & -17.4837 & 22.372 & 3959.3 & -68.8217 & $\\dots$ \\\\\n",
       "\t21 & 127.665 & 24.7256 & 23.6157 & -19.7105 & 22.3846 & 4208.92 & -77.9614 & $\\dots$ \\\\\n",
       "\t22 & 127.972 & 24.6972 & 23.6086 & -19.8415 & 22.4072 & 4456.67 & -86.0228 & $\\dots$ \\\\\n",
       "\t23 & 128.382 & 24.6877 & 23.6301 & -17.8742 & 22.4909 & 4661.56 & -92.1807 & $\\dots$ \\\\\n",
       "\t24 & 128.634 & 24.677 & 23.6013 & -17.0461 & 22.6571 & 4811.57 & -96.7032 & $\\dots$ \\\\\n",
       "\t$\\dots$ & $\\dots$ & $\\dots$ & $\\dots$ & $\\dots$ & $\\dots$ & $\\dots$ & $\\dots$ &  \\\\\n",
       "\\end{tabular}\n"
      ],
      "text/plain": [
       "GroupedDataFrame with 69 groups based on key: profile_id\n",
       "First Group (19357 rows): profile_id = 2\n",
       "\u001b[1m   Row \u001b[0m│\u001b[1m u_q     \u001b[0m\u001b[1m coolant \u001b[0m\u001b[1m stator_winding \u001b[0m\u001b[1m u_d       \u001b[0m\u001b[1m stator_tooth \u001b[0m\u001b[1m motor_spee\u001b[0m ⋯\n",
       "\u001b[1m       \u001b[0m│\u001b[90m Float64 \u001b[0m\u001b[90m Float64 \u001b[0m\u001b[90m Float64        \u001b[0m\u001b[90m Float64   \u001b[0m\u001b[90m Float64      \u001b[0m\u001b[90m Float64   \u001b[0m ⋯\n",
       "───────┼────────────────────────────────────────────────────────────────────────\n",
       "     1 │ 4.92171  15.7175         19.7292  0.0511826       18.8894      99.964 ⋯\n",
       "     2 │ 4.94854  15.8908         19.7376  0.0748067       18.8958     100.018\n",
       "     3 │ 4.94148  15.9926         19.7407  0.0636479       18.9028     100.0\n",
       "     4 │ 4.92118  16.1352         19.7275  0.0767381       18.9081      99.980\n",
       "     5 │ 4.92435  16.1654         19.7305  0.0845534       18.8761     100.023 ⋯\n",
       "     6 │ 4.93227  16.0686         19.7318  0.0287042       18.8553     100.003\n",
       "     7 │ 4.93508  15.9281         19.7221  0.0442232       18.8559      99.962\n",
       "     8 │ 4.95151  15.8281         19.7141  0.046617        18.8662     100.023\n",
       "   ⋮   │    ⋮        ⋮           ⋮             ⋮           ⋮             ⋮     ⋱\n",
       " 19350 │ 4.17542  18.9574         19.5111  1.49624         18.7993     100.004 ⋯\n",
       " 19351 │ 4.15658  18.9939         19.5185  1.50305         18.8094      99.964\n",
       " 19352 │ 4.17343  19.0118         19.5218  1.50347         18.8204     100.003\n",
       " 19353 │ 4.17766  19.0213         19.526   1.48666         18.809      100.002\n",
       " 19354 │ 4.14764  19.0326         19.5338  1.50065         18.8234      99.960 ⋯\n",
       " 19355 │ 4.14574  19.0393         19.5333  1.48029         18.8245      99.993\n",
       " 19356 │ 4.1447   19.0345         19.5259  1.48128         18.8071     100.001\n",
       " 19357 │ 4.15692  19.0232         19.5109  1.51471         18.8025      99.965\n",
       "\u001b[36m                                               10 columns and 19341 rows omitted\u001b[0m\n",
       "⋮\n",
       "Last Group (17672 rows): profile_id = 81\n",
       "\u001b[1m   Row \u001b[0m│\u001b[1m u_q        \u001b[0m\u001b[1m coolant \u001b[0m\u001b[1m stator_winding \u001b[0m\u001b[1m u_d       \u001b[0m\u001b[1m stator_tooth \u001b[0m\u001b[1m motor_s\u001b[0m ⋯\n",
       "\u001b[1m       \u001b[0m│\u001b[90m Float64    \u001b[0m\u001b[90m Float64 \u001b[0m\u001b[90m Float64        \u001b[0m\u001b[90m Float64   \u001b[0m\u001b[90m Float64      \u001b[0m\u001b[90m Float64\u001b[0m ⋯\n",
       "───────┼────────────────────────────────────────────────────────────────────────\n",
       "     1 │ -1.94079    24.7436         23.6858   1.10974        22.2009     0.20 ⋯\n",
       "     2 │  0.0612673  24.7216         23.6775   1.01142        22.213     26.39\n",
       "     3 │  4.86904    24.7008         23.6776   0.839013       22.2164   114.96\n",
       "     4 │ 11.4036     24.6855         23.6817   0.836843       22.2059   249.35\n",
       "     5 │ 19.1763     24.6713         23.6814   1.51188        22.196    416.54 ⋯\n",
       "     6 │ 28.0999     24.6624         23.691    2.75774        22.1794   607.21\n",
       "     7 │ 37.8627     24.6636         23.7168   4.36338        22.1761   814.73\n",
       "     8 │ 48.2362     24.6901         23.7058   5.6149         22.1942  1034.35\n",
       "   ⋮   │     ⋮          ⋮           ⋮             ⋮           ⋮              ⋮ ⋱\n",
       " 17665 │ -0.630605   85.6213         81.611   -0.72049        79.4527    -0.00 ⋯\n",
       " 17666 │ -0.64744    85.6344         81.5778  -0.65138        79.4523    -0.00\n",
       " 17667 │ -0.657757   85.6405         81.5623  -0.763759       79.4537    -0.00\n",
       " 17668 │ -0.662298   85.6336         81.5725  -0.673085       79.4543    -0.00\n",
       " 17669 │ -0.639878   85.6256         81.5564  -0.790497       79.4562     0.00 ⋯\n",
       " 17670 │ -0.647135   85.615          81.542   -0.678542       79.4547     0.00\n",
       " 17671 │ -0.6274     85.616          81.5181  -0.812512       79.4537     0.00\n",
       " 17672 │ -0.653734   85.6273         81.5205  -0.656792       79.4532    -0.00\n",
       "\u001b[36m                                               10 columns and 17656 rows omitted\u001b[0m"
      ]
     },
     "metadata": {},
     "output_type": "display_data"
    }
   ],
   "source": [
    "test_set_pids = [60, 62, 74]\n",
    "target_cols = [\"pm\", \"stator_tooth\", \"stator_winding\", \"stator_yoke\"]\n",
    "gdf = groupby(data, :profile_id)"
   ]
  },
  {
   "cell_type": "code",
   "execution_count": 7,
   "id": "a739900c",
   "metadata": {},
   "outputs": [
    {
     "name": "stdout",
     "output_type": "stream",
     "text": [
      "(max_len_train, max_len_test) = (43971, 25600)\n",
      "(n_train_profiles, n_test_profiles) = (66, 3)\n"
     ]
    }
   ],
   "source": [
    "p_sizes = combine(gdf, nrow)\n",
    "max_len_test = maximum(filter(:profile_id => n -> n in test_set_pids, p_sizes).nrow)\n",
    "max_len_train = maximum(filter(:profile_id => n -> n ∉ test_set_pids, p_sizes).nrow)\n",
    "\n",
    "n_test_profiles = length(test_set_pids)\n",
    "n_train_profiles = length(keys(gdf)) - n_test_profiles\n",
    "@show max_len_train, max_len_test\n",
    "@show n_train_profiles, n_test_profiles;"
   ]
  },
  {
   "cell_type": "code",
   "execution_count": 8,
   "id": "dd82fda0",
   "metadata": {},
   "outputs": [],
   "source": [
    "c_input_temps = [\"ambient\", \"coolant\"]\n",
    "c_temps = [target_cols..., c_input_temps...]\n",
    "c_non_temps = [c for c in names(data) if c ∉ [c_temps..., \"profile_id\"]]\n",
    "\n",
    "train_tensor_non_temp_x = zeros(Float32, (max_len_train, length(c_non_temps), n_train_profiles))\n",
    "train_tensor_temps_x = zeros(Float32, (max_len_train, length(c_input_temps), n_train_profiles))\n",
    "train_tensor_y = zeros(Float32, (max_len_train, length(target_cols), n_train_profiles))\n",
    "train_sample_weights = zeros(Float32, (max_len_train, n_train_profiles))\n",
    "\n",
    "test_tensor_non_temp_x = zeros(Float32, (max_len_test, length(c_non_temps), n_test_profiles))\n",
    "test_tensor_temps_x = zeros(Float32, (max_len_test, length(c_input_temps), n_test_profiles))\n",
    "test_tensor_y = zeros(Float32, (max_len_test, length(target_cols), n_test_profiles))\n",
    "test_sample_weights = zeros(Float32, (max_len_test, n_test_profiles));\n"
   ]
  },
  {
   "cell_type": "code",
   "execution_count": 9,
   "id": "684f7fa1",
   "metadata": {},
   "outputs": [
    {
     "name": "stderr",
     "output_type": "stream",
     "text": [
      "\r\u001b[32mComputing   3%|█▎                                       |  ETA: 0:02:11\u001b[39m\u001b[K"
     ]
    },
    {
     "name": "stderr",
     "output_type": "stream",
     "text": [
      "\r\u001b[32mComputing  17%|███████▏                                 |  ETA: 0:00:31\u001b[39m\u001b[K"
     ]
    },
    {
     "name": "stderr",
     "output_type": "stream",
     "text": [
      "\r\u001b[32mComputing  25%|██████████▏                              |  ETA: 0:00:23\u001b[39m\u001b[K"
     ]
    },
    {
     "name": "stderr",
     "output_type": "stream",
     "text": [
      "\r\u001b[32mComputing  29%|███████████▉                             |  ETA: 0:00:20\u001b[39m\u001b[K"
     ]
    },
    {
     "name": "stderr",
     "output_type": "stream",
     "text": [
      "\r\u001b[32mComputing  35%|██████████████▎                          |  ETA: 0:00:16\u001b[39m\u001b[K"
     ]
    },
    {
     "name": "stderr",
     "output_type": "stream",
     "text": [
      "\r\u001b[32mComputing  39%|████████████████                         |  ETA: 0:00:15\u001b[39m\u001b[K"
     ]
    },
    {
     "name": "stderr",
     "output_type": "stream",
     "text": [
      "\r\u001b[32mComputing  43%|█████████████████▉                       |  ETA: 0:00:13\u001b[39m\u001b[K"
     ]
    },
    {
     "name": "stderr",
     "output_type": "stream",
     "text": [
      "\r\u001b[32mComputing  49%|████████████████████▎                    |  ETA: 0:00:11\u001b[39m\u001b[K"
     ]
    },
    {
     "name": "stderr",
     "output_type": "stream",
     "text": [
      "\r\u001b[32mComputing  61%|█████████████████████████                |  ETA: 0:00:07\u001b[39m\u001b[K"
     ]
    },
    {
     "name": "stderr",
     "output_type": "stream",
     "text": [
      "\r\u001b[32mComputing  67%|███████████████████████████▍             |  ETA: 0:00:06\u001b[39m\u001b[K"
     ]
    },
    {
     "name": "stderr",
     "output_type": "stream",
     "text": [
      "\r\u001b[32mComputing  72%|█████████████████████████████▊           |  ETA: 0:00:05\u001b[39m\u001b[K"
     ]
    },
    {
     "name": "stderr",
     "output_type": "stream",
     "text": [
      "\r\u001b[32mComputing  78%|████████████████████████████████▏        |  ETA: 0:00:04\u001b[39m\u001b[K"
     ]
    },
    {
     "name": "stderr",
     "output_type": "stream",
     "text": [
      "\r\u001b[32mComputing  83%|█████████████████████████████████▉       |  ETA: 0:00:03\u001b[39m\u001b[K"
     ]
    },
    {
     "name": "stderr",
     "output_type": "stream",
     "text": [
      "\r\u001b[32mComputing  88%|████████████████████████████████████▎    |  ETA: 0:00:02\u001b[39m\u001b[K"
     ]
    },
    {
     "name": "stderr",
     "output_type": "stream",
     "text": [
      "\r\u001b[32mComputing  94%|██████████████████████████████████████▋  |  ETA: 0:00:01\u001b[39m\u001b[K"
     ]
    },
    {
     "name": "stderr",
     "output_type": "stream",
     "text": [
      "\r\u001b[32mComputing  99%|████████████████████████████████████████▍|  ETA: 0:00:00\u001b[39m\u001b[K"
     ]
    },
    {
     "name": "stderr",
     "output_type": "stream",
     "text": [
      "\r\u001b[32mComputing 100%|█████████████████████████████████████████| Time: 0:00:15\u001b[39m\u001b[K\n"
     ]
    }
   ],
   "source": [
    "# fill in DataFrame information\n",
    "test_p_idx = 0\n",
    "train_p_idx = 0\n",
    "@showprogress 0.5 \"Computing \" for (pid, df) in pairs(gdf)\n",
    "    if pid.profile_id ∈ test_set_pids\n",
    "        test_p_idx += 1\n",
    "        test_tensor_non_temp_x[1:nrow(df), :, test_p_idx] .= df[:, c_non_temps]\n",
    "        test_tensor_temps_x[1:nrow(df), :, test_p_idx] .= df[:, c_input_temps]\n",
    "        test_tensor_y[1:nrow(df), :, test_p_idx] .= df[:, target_cols]\n",
    "        test_sample_weights[1:nrow(df), test_p_idx] .= 1\n",
    "    else\n",
    "        train_p_idx += 1\n",
    "        train_tensor_non_temp_x[1:nrow(df), :, train_p_idx] .= df[:, c_non_temps]\n",
    "        train_tensor_temps_x[1:nrow(df), :, train_p_idx] .= df[:, c_input_temps]\n",
    "        train_tensor_y[1:nrow(df), :, train_p_idx] .= df[:, target_cols]\n",
    "        train_sample_weights[1:nrow(df), train_p_idx] .= 1\n",
    "    end\n",
    "end"
   ]
  },
  {
   "cell_type": "code",
   "execution_count": 10,
   "id": "930d0c93",
   "metadata": {},
   "outputs": [],
   "source": [
    "tbptt_len = 128\n",
    "\n",
    "train_vec_temps_x = [train_tensor_temps_x[i, :, :] for i in 1:size(train_tensor_temps_x, 1)]\n",
    "train_vec_non_temp_x = [train_tensor_non_temp_x[i, :, :] for i in 1:size(train_tensor_non_temp_x, 1)]\n",
    "train_vec_x = collect(zip(train_vec_non_temp_x, train_vec_temps_x))\n",
    "train_vec_y = [train_tensor_y[i, :, :] for i in 1:size(train_tensor_y, 1)]\n",
    "train_vec_sample_weights = [train_sample_weights[i, :] for i in 1:size(train_sample_weights, 1)]\n",
    "\n",
    "train_vec_chunked_x = []\n",
    "train_vec_chunked_y = []\n",
    "train_vec_chunked_w = []\n",
    "\n",
    "i = 0;\n",
    "while i*tbptt_len <= max_len_train\n",
    "    push!(train_vec_chunked_x, train_vec_x[i*tbptt_len+1:minimum(((i+1)*tbptt_len+1, max_len_train))])\n",
    "    push!(train_vec_chunked_y, train_vec_y[i*tbptt_len+1:minimum(((i+1)*tbptt_len+1, max_len_train))])\n",
    "    push!(train_vec_chunked_w, train_vec_sample_weights[i*tbptt_len+1:minimum(((i+1)*tbptt_len+1, max_len_train))])\n",
    "    global i+= 1\n",
    "end\n",
    "\n",
    "test_vec_temps_x = [test_tensor_temps_x[i, :, :] for i in 1:size(test_tensor_temps_x, 1)]\n",
    "test_vec_non_temp_x = [test_tensor_non_temp_x[i, :, :] for i in 1:size(test_tensor_non_temp_x, 1)]\n",
    "test_vec_x = collect(zip(train_vec_non_temp_x, test_vec_temps_x))\n",
    "test_vec_y = [test_tensor_y[i, :, :] for i in 1:size(test_tensor_y, 1)]\n",
    "test_vec_sample_weights = [test_sample_weights[i, :] for i in 1:size(test_sample_weights, 1)];\n"
   ]
  },
  {
   "cell_type": "code",
   "execution_count": 11,
   "id": "1367008f",
   "metadata": {},
   "outputs": [
    {
     "data": {
      "text/plain": [
       "sample_weighted_loss (generic function with 1 method)"
      ]
     },
     "metadata": {},
     "output_type": "display_data"
    }
   ],
   "source": [
    "using Statistics: mean\n",
    "n_epochs = 100\n",
    "pbar = Progress(n_epochs, desc=\"Training Epochs\", start=1, showspeed=true)\n",
    "init_hidden = train_vec_y[1]\n",
    "m = Flux.Recur(TNNCell(length(c_non_temps)+length(c_input_temps),\n",
    "                       length(c_temps),\n",
    "                       length(target_cols),\n",
    "                       init_hidden),\n",
    "               init_hidden)\n",
    "ps = params(m)\n",
    "opt = ADAM(1e-3)\n",
    "\n",
    "function sample_weighted_loss(x::Vector{Tuple{Matrix{T}, Matrix{T}}}, y::Vector{U}, w::Vector{V}) where {T, U, V}\n",
    "   mean(Flux.Losses.mse(m(xi), yi, agg=z->mean(wi' .* z)) for (xi, yi, wi) in zip(x, y, w)) \n",
    "end"
   ]
  },
  {
   "cell_type": "code",
   "execution_count": 22,
   "id": "262cefb4",
   "metadata": {},
   "outputs": [
    {
     "name": "stderr",
     "output_type": "stream",
     "text": [
      "\r\u001b[32mTraining Epochs  2%|▌                     |  ETA: 8:39:30 ( 5.30  m/it)\u001b[39m\u001b[K\r\n",
      "\u001b[34m  epoch:  1\u001b[39m\u001b[K\r\u001b[A"
     ]
    },
    {
     "name": "stderr",
     "output_type": "stream",
     "text": [
      "\n",
      "\r\u001b[K\u001b[A\r\u001b[32mTraining Epochs  3%|▋                     |  ETA: 6:33:34 ( 4.06  m/it)\u001b[39m\u001b[K\r\n",
      "\u001b[34m  epoch:  2\u001b[39m\u001b[K\r\u001b[A"
     ]
    },
    {
     "name": "stderr",
     "output_type": "stream",
     "text": [
      "\n",
      "\r\u001b[K\u001b[A\r\u001b[32mTraining Epochs  4%|▉                     |  ETA: 5:49:30 ( 3.64  m/it)\u001b[39m\u001b[K\r\n",
      "\u001b[34m  epoch:  3\u001b[39m\u001b[K\r\u001b[A"
     ]
    }
   ],
   "source": [
    "# training\n",
    "data_tup = zip(train_vec_chunked_x, train_vec_chunked_y, train_vec_chunked_w);\n",
    "for epoch in 1:n_epochs\n",
    "    Flux.reset!(m)\n",
    "    Flux.train!(sample_weighted_loss, ps, data_tup, opt)\n",
    "    next!(pbar, showvalues = [(:epoch, epoch)])\n",
    "end\n",
    "\n"
   ]
  },
  {
   "cell_type": "code",
   "execution_count": 18,
   "id": "0103301b",
   "metadata": {},
   "outputs": [],
   "source": [
    "using BenchmarkTools\n",
    "data_tup = zip(train_vec_chunked_x, train_vec_chunked_y, train_vec_chunked_w);"
   ]
  },
  {
   "cell_type": "code",
   "execution_count": 19,
   "id": "cb2c695c",
   "metadata": {},
   "outputs": [
    {
     "data": {
      "text/plain": [
       "BenchmarkTools.Trial: 1 sample with 1 evaluation.\n",
       " Single result which took \u001b[34m167.081 s\u001b[39m (6.47% GC) to evaluate,\n",
       " with a memory estimate of \u001b[33m51.98 GiB\u001b[39m, over \u001b[33m353193566\u001b[39m allocations."
      ]
     },
     "metadata": {},
     "output_type": "display_data"
    }
   ],
   "source": [
    "@benchmark Flux.train!($sample_weighted_loss, $ps, $data_tup, $opt)"
   ]
  },
  {
   "cell_type": "code",
   "execution_count": 20,
   "id": "09ea4039",
   "metadata": {},
   "outputs": [
    {
     "ename": "ErrorException",
     "evalue": "syntax: \"$\" expression outside quote around /home/wilhelmk/dev/projects/hyperdyn/examples/thermal_modeling/notebooks/prototyping.ipynb:2",
     "output_type": "error",
     "traceback": [
      "syntax: \"$\" expression outside quote around /home/wilhelmk/dev/projects/hyperdyn/examples/thermal_modeling/notebooks/prototyping.ipynb:2\n",
      "\n",
      "Stacktrace:\n",
      "  [1] top-level scope\n",
      "    @ ~/dev/projects/hyperdyn/examples/thermal_modeling/notebooks/prototyping.ipynb:1\n",
      "  [2] eval\n",
      "    @ ./boot.jl:360 [inlined]\n",
      "  [3] include_string(mapexpr::typeof(REPL.softscope), mod::Module, code::String, filename::String)\n",
      "    @ Base ./loading.jl:1116\n",
      "  [4] #invokelatest#2\n",
      "    @ ./essentials.jl:708 [inlined]\n",
      "  [5] invokelatest\n",
      "    @ ./essentials.jl:706 [inlined]\n",
      "  [6] (::VSCodeServer.var\"#146#147\"{VSCodeServer.NotebookRunCellArguments, String})()\n",
      "    @ VSCodeServer ~/.vscode/extensions/julialang.language-julia-1.5.11/scripts/packages/VSCodeServer/src/serve_notebook.jl:18\n",
      "  [7] withpath(f::VSCodeServer.var\"#146#147\"{VSCodeServer.NotebookRunCellArguments, String}, path::String)\n",
      "    @ VSCodeServer ~/.vscode/extensions/julialang.language-julia-1.5.11/scripts/packages/VSCodeServer/src/repl.jl:185\n",
      "  [8] notebook_runcell_request(conn::VSCodeServer.JSONRPC.JSONRPCEndpoint{Base.PipeEndpoint, Base.PipeEndpoint}, params::VSCodeServer.NotebookRunCellArguments)\n",
      "    @ VSCodeServer ~/.vscode/extensions/julialang.language-julia-1.5.11/scripts/packages/VSCodeServer/src/serve_notebook.jl:14\n",
      "  [9] dispatch_msg(x::VSCodeServer.JSONRPC.JSONRPCEndpoint{Base.PipeEndpoint, Base.PipeEndpoint}, dispatcher::VSCodeServer.JSONRPC.MsgDispatcher, msg::Dict{String, Any})\n",
      "    @ VSCodeServer.JSONRPC ~/.vscode/extensions/julialang.language-julia-1.5.11/scripts/packages/JSONRPC/src/typed.jl:67\n",
      " [10] serve_notebook(pipename::String; crashreporting_pipename::String)\n",
      "    @ VSCodeServer ~/.vscode/extensions/julialang.language-julia-1.5.11/scripts/packages/VSCodeServer/src/serve_notebook.jl:94\n",
      " [11] top-level scope\n",
      "    @ ~/.vscode/extensions/julialang.language-julia-1.5.11/scripts/notebook/notebook.jl:12\n",
      " [12] include(mod::Module, _path::String)\n",
      "    @ Base ./Base.jl:386\n",
      " [13] exec_options(opts::Base.JLOptions)\n",
      "    @ Base ./client.jl:285\n",
      " [14] _start()\n",
      "    @ Base ./client.jl:485"
     ]
    }
   ],
   "source": [
    "function train_one_epoch()\n",
    "    Flux.train!($sample_weighted_loss, $ps, $data_tup, $opt)\n",
    "end"
   ]
  },
  {
   "cell_type": "code",
   "execution_count": 21,
   "id": "65b4d821",
   "metadata": {},
   "outputs": [
    {
     "ename": "UndefVarError",
     "evalue": "UndefVarError: train_one_epoch not defined",
     "output_type": "error",
     "traceback": [
      "UndefVarError: train_one_epoch not defined\n",
      "\n",
      "Stacktrace:\n",
      "  [1] var\"##core#308\"()\n",
      "    @ Main ~/.julia/packages/BenchmarkTools/7xSXH/src/execution.jl:489\n",
      "  [2] var\"##sample#309\"(::Tuple{}, __params::BenchmarkTools.Parameters)\n",
      "    @ Main ~/.julia/packages/BenchmarkTools/7xSXH/src/execution.jl:495\n",
      "  [3] _run(b::BenchmarkTools.Benchmark, p::BenchmarkTools.Parameters; verbose::Bool, pad::String, kwargs::Base.Iterators.Pairs{Symbol, Integer, NTuple{4, Symbol}, NamedTuple{(:samples, :evals, :gctrial, :gcsample), Tuple{Int64, Int64, Bool, Bool}}})\n",
      "    @ BenchmarkTools ~/.julia/packages/BenchmarkTools/7xSXH/src/execution.jl:99\n",
      "  [4] #invokelatest#2\n",
      "    @ ./essentials.jl:710 [inlined]\n",
      "  [5] #run_result#45\n",
      "    @ ~/.julia/packages/BenchmarkTools/7xSXH/src/execution.jl:34 [inlined]\n",
      "  [6] run(b::BenchmarkTools.Benchmark, p::BenchmarkTools.Parameters; progressid::Nothing, nleaves::Float64, ndone::Float64, kwargs::Base.Iterators.Pairs{Symbol, Integer, NTuple{5, Symbol}, NamedTuple{(:verbose, :samples, :evals, :gctrial, :gcsample), Tuple{Bool, Int64, Int64, Bool, Bool}}})\n",
      "    @ BenchmarkTools ~/.julia/packages/BenchmarkTools/7xSXH/src/execution.jl:117\n",
      "  [7] #warmup#54\n",
      "    @ ~/.julia/packages/BenchmarkTools/7xSXH/src/execution.jl:169 [inlined]\n",
      "  [8] warmup(item::BenchmarkTools.Benchmark)\n",
      "    @ BenchmarkTools ~/.julia/packages/BenchmarkTools/7xSXH/src/execution.jl:169\n",
      "  [9] top-level scope\n",
      "    @ ~/.julia/packages/BenchmarkTools/7xSXH/src/execution.jl:393\n",
      " [10] eval\n",
      "    @ ./boot.jl:360 [inlined]\n",
      " [11] include_string(mapexpr::typeof(REPL.softscope), mod::Module, code::String, filename::String)\n",
      "    @ Base ./loading.jl:1116\n",
      " [12] #invokelatest#2\n",
      "    @ ./essentials.jl:708 [inlined]\n",
      " [13] invokelatest\n",
      "    @ ./essentials.jl:706 [inlined]\n",
      " [14] (::VSCodeServer.var\"#146#147\"{VSCodeServer.NotebookRunCellArguments, String})()\n",
      "    @ VSCodeServer ~/.vscode/extensions/julialang.language-julia-1.5.11/scripts/packages/VSCodeServer/src/serve_notebook.jl:18\n",
      " [15] withpath(f::VSCodeServer.var\"#146#147\"{VSCodeServer.NotebookRunCellArguments, String}, path::String)\n",
      "    @ VSCodeServer ~/.vscode/extensions/julialang.language-julia-1.5.11/scripts/packages/VSCodeServer/src/repl.jl:185\n",
      " [16] notebook_runcell_request(conn::VSCodeServer.JSONRPC.JSONRPCEndpoint{Base.PipeEndpoint, Base.PipeEndpoint}, params::VSCodeServer.NotebookRunCellArguments)\n",
      "    @ VSCodeServer ~/.vscode/extensions/julialang.language-julia-1.5.11/scripts/packages/VSCodeServer/src/serve_notebook.jl:14\n",
      " [17] dispatch_msg(x::VSCodeServer.JSONRPC.JSONRPCEndpoint{Base.PipeEndpoint, Base.PipeEndpoint}, dispatcher::VSCodeServer.JSONRPC.MsgDispatcher, msg::Dict{String, Any})\n",
      "    @ VSCodeServer.JSONRPC ~/.vscode/extensions/julialang.language-julia-1.5.11/scripts/packages/JSONRPC/src/typed.jl:67\n",
      " [18] serve_notebook(pipename::String; crashreporting_pipename::String)\n",
      "    @ VSCodeServer ~/.vscode/extensions/julialang.language-julia-1.5.11/scripts/packages/VSCodeServer/src/serve_notebook.jl:94\n",
      " [19] top-level scope\n",
      "    @ ~/.vscode/extensions/julialang.language-julia-1.5.11/scripts/notebook/notebook.jl:12\n",
      " [20] include(mod::Module, _path::String)\n",
      "    @ Base ./Base.jl:386\n",
      " [21] exec_options(opts::Base.JLOptions)\n",
      "    @ Base ./client.jl:285\n",
      " [22] _start()\n",
      "    @ Base ./client.jl:485"
     ]
    }
   ],
   "source": [
    "@benchmark train_one_epoch()"
   ]
  }
 ],
 "metadata": {
  "@webio": {
   "lastCommId": null,
   "lastKernelId": null
  },
  "kernelspec": {
   "display_name": "Julia 1.6.2",
   "language": "julia",
   "name": "julia-1.6"
  },
  "language_info": {
   "file_extension": ".jl",
   "mimetype": "application/julia",
   "name": "julia",
   "version": "1.6.2"
  }
 },
 "nbformat": 4,
 "nbformat_minor": 5
}
