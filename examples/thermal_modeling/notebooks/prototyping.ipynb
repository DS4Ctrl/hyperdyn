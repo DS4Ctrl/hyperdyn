{
 "cells": [
  {
   "cell_type": "code",
   "execution_count": 16,
   "id": "84c292df",
   "metadata": {},
   "outputs": [],
   "source": [
    "using Flux, DataFrames, CSV"
   ]
  },
  {
   "cell_type": "code",
   "execution_count": 2,
   "id": "e6941345",
   "metadata": {},
   "outputs": [
    {
     "data": {
      "text/plain": [
       "(Float32[-0.9481508, 0.9169154, -0.6440355], Float32[-0.9481508, 0.9169154, -0.6440355])"
      ]
     },
     "execution_count": 2,
     "metadata": {},
     "output_type": "execute_result"
    }
   ],
   "source": [
    "rnn = Flux.RNNCell(2, 3)\n",
    "\n",
    "x = rand(Float32, 2) # dummy data\n",
    "h = rand(Float32, 3)  # initial hidden state\n",
    "\n",
    "h, y = rnn(h, x)"
   ]
  },
  {
   "cell_type": "code",
   "execution_count": 3,
   "id": "4efe5ef5",
   "metadata": {},
   "outputs": [
    {
     "data": {
      "text/plain": [
       "5-element Vector{Float32}:\n",
       "  0.15125108\n",
       "  0.9087713\n",
       " -0.9481508\n",
       "  0.9169154\n",
       " -0.6440355"
      ]
     },
     "execution_count": 3,
     "metadata": {},
     "output_type": "execute_result"
    }
   ],
   "source": [
    "vcat(x, h)"
   ]
  },
  {
   "cell_type": "code",
   "execution_count": 4,
   "id": "f0ec0f77",
   "metadata": {},
   "outputs": [
    {
     "data": {
      "text/plain": [
       "1-element Vector{Float32}:\n",
       " 0.26668862"
      ]
     },
     "execution_count": 4,
     "metadata": {},
     "output_type": "execute_result"
    }
   ],
   "source": [
    "m = Chain(RNN(2, 5), Dense(5, 1))\n",
    "m(rand(Float32, 2))"
   ]
  },
  {
   "cell_type": "code",
   "execution_count": 14,
   "id": "9e1012ad",
   "metadata": {},
   "outputs": [
    {
     "data": {
      "text/plain": [
       "10-element Vector{Matrix{Float32}}:\n",
       " [0.15575695 0.47646832 … 0.4927429 0.9418055; 0.8937129 0.45485008 … 0.89658284 0.403031; 0.07059038 0.9383588 … 0.69216573 0.9007287]\n",
       " [0.7597275 0.4969073 … 0.49025214 -0.53089094; -0.9860904 0.6267067 … -0.30998075 1.0288675; 1.0563452 -0.422546 … 0.20994455 -0.019340098]\n",
       " [-0.92069817 0.38168728 … 0.12233563 2.7148623; 3.793907 0.0326142 … 1.8290619 -1.2502389; -0.6850257 2.5838437 … 0.73840535 1.6738575]\n",
       " [2.7132058 1.2482662 … 1.8034438 -5.6915526; -6.7145996 2.4748693 … -2.147357 4.3415427; 5.1458282 -2.5789168 … 0.5697482 0.45128942]\n",
       " [-11.154015 -2.1126046 … -4.3827705 14.89292; 17.422298 -3.2937376 … 5.6016617 -15.819507; -1.523951 9.827733 … 0.53956985 3.3076]\n",
       " [8.212044 6.47008 … 10.537048 -60.46117; -40.75537 14.843651 … -17.05578 40.016; 20.450392 -9.17193 … 3.589607 11.748254]\n",
       " [-62.41081 -15.423424 … -50.094433 161.25975; 91.137405 -19.137611 … 43.691494 -198.73477; -1.0432239 44.88357 … 5.8553762 9.321945]\n",
       " [24.158127 27.772429 … 141.45235 -819.1729; -182.25052 103.64462 … -183.10004 560.03015; 93.53974 -60.62765 … 29.926083 152.25537]\n",
       " [-253.9006 -88.076065 … -717.9001 2199.2563; 389.31253 -165.76706 … 508.1711 -2905.6921; 0.61950666 327.67123 … 112.14587 104.537964]\n",
       " [66.743675 99.373055 … 1944.3658 -11596.402; -777.6324 867.29456 … -2339.5522 8011.9805; 388.94257 -456.69815 … 172.78802 1991.4567]"
      ]
     },
     "execution_count": 14,
     "metadata": {},
     "output_type": "execute_result"
    }
   ],
   "source": [
    "const n_input_temps = 2\n",
    "const n_non_input_temps = 3\n",
    "const n_total_inputs = n_input_temps + n_non_input_temps\n",
    "const n_targets = 3\n",
    "const n_temps = n_targets + n_input_temps\n",
    "const n_profiles = 49\n",
    "\n",
    "\n",
    "mutable struct HeatTransferLayer\n",
    "    n_temps::Int\n",
    "    n_targets::Int\n",
    "    conductance_net\n",
    "    adj_mat::Matrix{Int8}\n",
    "end\n",
    "\n",
    "function HeatTransferLayer(n_temps::Integer, n_targets::Integer)\n",
    "    # populate adjacency matrix\n",
    "    adj_mat = zeros(Int8, n_temps, n_temps)\n",
    "    k = 1\n",
    "    for col_j in 1:n_temps\n",
    "        for row_i in col_j+1:n_temps\n",
    "            adj_mat[row_i, col_j] = k\n",
    "            k += 1\n",
    "        end\n",
    "    end\n",
    "    adj_mat = adj_mat + adj_mat'\n",
    "    n_conds = Int(0.5 * n_temps * (n_temps - 1))\n",
    "    HeatTransferLayer(n_temps, n_targets, \n",
    "                      Dense(n_total_inputs + n_targets, n_conds, σ),\n",
    "                      adj_mat)\n",
    "end\n",
    "\n",
    "# overload struct to make it callable\n",
    "function (m::HeatTransferLayer)(all_input)\n",
    "    n_temps = m.n_temps\n",
    "    prev_out = @views all_input[1:m.n_targets, :]\n",
    "    temps = @views all_input[1:n_temps, :]\n",
    "    \n",
    "    conductances = m.conductance_net(all_input)\n",
    "    \n",
    "    # subtract, scale, and sum\n",
    "    tmp = zeros(eltype(prev_out), size(prev_out))\n",
    "    for i in 1:m.n_targets\n",
    "        for j in 1:n_temps\n",
    "            if j != i\n",
    "                @. tmp[i, :] += (temps[j, :] - prev_out[i, :]) * conductances[m.adj_mat[i, j], :]\n",
    "            end\n",
    "        end\n",
    "    end\n",
    "\n",
    "    return tmp\n",
    "end\n",
    "\n",
    "Flux.@functor HeatTransferLayer\n",
    "ploss_net = Chain(Dense(n_total_inputs + n_targets, 8, σ),\n",
    "                  Dense(8, n_targets, σ))\n",
    "heat_transfer = HeatTransferLayer(n_temps, n_targets)\n",
    "prll = Parallel(+, ploss_net, heat_transfer)\n",
    "\n",
    "function my_cell(prev_̂y, x)\n",
    "    x_non_temps, x_temps = x\n",
    "    xx = vcat(prev_̂y, x_temps, x_non_temps)\n",
    "    y = prll(xx)\n",
    "    return y, prev_̂y\n",
    "end\n",
    "\n",
    "# smoke-test the topology\n",
    "xs = [(rand(Float32, n_non_input_temps, n_profiles), \n",
    "        rand(Float32, n_input_temps, n_profiles)) for i in 1:10]\n",
    "h = rand(Float32, n_targets, n_profiles)  # initial hidden state\n",
    "m = Flux.Recur(my_cell, h)\n",
    "\n",
    "# predict\n",
    "ys = [m(x) for x in xs]\n"
   ]
  },
  {
   "cell_type": "code",
   "execution_count": null,
   "id": "bcca3d5c",
   "metadata": {},
   "outputs": [],
   "source": []
  },
  {
   "cell_type": "code",
   "execution_count": null,
   "id": "36e6a204",
   "metadata": {},
   "outputs": [],
   "source": []
  },
  {
   "cell_type": "code",
   "execution_count": null,
   "id": "af7ad319",
   "metadata": {},
   "outputs": [],
   "source": []
  },
  {
   "cell_type": "code",
   "execution_count": null,
   "id": "930d0c93",
   "metadata": {},
   "outputs": [],
   "source": []
  }
 ],
 "metadata": {
  "@webio": {
   "lastCommId": null,
   "lastKernelId": null
  },
  "kernelspec": {
   "display_name": "Julia 1.6.1",
   "language": "julia",
   "name": "julia-1.6"
  },
  "language_info": {
   "file_extension": ".jl",
   "mimetype": "application/julia",
   "name": "julia",
   "version": "1.6.1"
  }
 },
 "nbformat": 4,
 "nbformat_minor": 5
}
